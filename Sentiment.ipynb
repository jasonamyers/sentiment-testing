{
 "cells": [
  {
   "cell_type": "code",
   "execution_count": 1,
   "metadata": {
    "collapsed": true
   },
   "outputs": [],
   "source": [
    "from textblob import TextBlob\n",
    "from textblob.sentiments import NaiveBayesAnalyzer\n",
    "import json"
   ]
  },
  {
   "cell_type": "code",
   "execution_count": 7,
   "metadata": {
    "collapsed": true
   },
   "outputs": [],
   "source": [
    "text=\"\"\"Remember before Twitter when you took a photo of food, got the film developed, then drove around showing everyone the pic? No? Me neither.\"\"\""
   ]
  },
  {
   "cell_type": "code",
   "execution_count": 8,
   "metadata": {
    "collapsed": true
   },
   "outputs": [],
   "source": [
    "blob = TextBlob(text)"
   ]
  },
  {
   "cell_type": "code",
   "execution_count": 12,
   "metadata": {
    "collapsed": false
   },
   "outputs": [
    {
     "data": {
      "text/plain": [
       "defaultdict(int,\n",
       "            {u'a': 1,\n",
       "             u'around': 1,\n",
       "             u'before': 1,\n",
       "             u'developed': 1,\n",
       "             u'drove': 1,\n",
       "             u'everyone': 1,\n",
       "             u'film': 1,\n",
       "             u'food': 1,\n",
       "             u'got': 1,\n",
       "             u'me': 1,\n",
       "             u'neither': 1,\n",
       "             u'no': 1,\n",
       "             u'of': 1,\n",
       "             u'photo': 1,\n",
       "             u'pic': 1,\n",
       "             u'remember': 1,\n",
       "             u'showing': 1,\n",
       "             u'the': 2,\n",
       "             u'then': 1,\n",
       "             u'took': 1,\n",
       "             u'twitter': 1,\n",
       "             u'when': 1,\n",
       "             u'you': 1})"
      ]
     },
     "execution_count": 12,
     "metadata": {},
     "output_type": "execute_result"
    }
   ],
   "source": [
    "blob.word_counts"
   ]
  },
  {
   "cell_type": "code",
   "execution_count": 14,
   "metadata": {
    "collapsed": false
   },
   "outputs": [
    {
     "name": "stdout",
     "output_type": "stream",
     "text": [
      "Sentiment(polarity=0.1, subjectivity=0.3)\n",
      "Sentiment(polarity=0.0, subjectivity=0.0)\n",
      "Sentiment(polarity=0.0, subjectivity=0.0)\n"
     ]
    }
   ],
   "source": [
    "for sentence in blob.sentences:\n",
    "    print(sentence.sentiment)"
   ]
  },
  {
   "cell_type": "code",
   "execution_count": 5,
   "metadata": {
    "collapsed": true
   },
   "outputs": [],
   "source": [
    "blob = TextBlob(text, analyzer=NaiveBayesAnalyzer())"
   ]
  },
  {
   "cell_type": "code",
   "execution_count": 6,
   "metadata": {
    "collapsed": false
   },
   "outputs": [
    {
     "name": "stdout",
     "output_type": "stream",
     "text": [
      "Sentiment(classification='neg', p_pos=0.4199831739557705, p_neg=0.5800168260442291)\n",
      "Sentiment(classification='pos', p_pos=0.5, p_neg=0.5)\n",
      "Sentiment(classification='neg', p_pos=0.3717105263157896, p_neg=0.6282894736842106)\n"
     ]
    }
   ],
   "source": [
    "for sentence in blob.sentences:\n",
    "    print(sentence.sentiment)"
   ]
  },
  {
   "cell_type": "code",
   "execution_count": 2,
   "metadata": {
    "collapsed": true
   },
   "outputs": [],
   "source": [
    "tweet_texts = []"
   ]
  },
  {
   "cell_type": "code",
   "execution_count": 3,
   "metadata": {
    "collapsed": false
   },
   "outputs": [],
   "source": [
    "with open('tweets.txt') as tweets:\n",
    "    while True:\n",
    "        line = tweets.readline()\n",
    "        line = line.strip()\n",
    "        \n",
    "        if not line:\n",
    "            break\n",
    "            \n",
    "        try:\n",
    "            tweet = json.loads(line)\n",
    "            tweet_text = tweet.get('text')\n",
    "            if tweet_text:\n",
    "                tweet_texts.append(tweet_text)\n",
    "        except Exception as exc_info:\n",
    "            pass"
   ]
  },
  {
   "cell_type": "code",
   "execution_count": 6,
   "metadata": {
    "collapsed": false
   },
   "outputs": [
    {
     "name": "stdout",
     "output_type": "stream",
     "text": [
      "Pattern Tweet:  RT @ bi3_folowrss: stronger Offers # Abie_mtabaan Twitter and Anstaqram\n",
      "\n",
      "BC FOLLOWERS of the company √\n",
      "Demand 📞 0502376344\n",
      ".\n",
      ".\n",
      " https://t.co/rw0FswuHoZ\n",
      " # Khald_ncef ... \n",
      "Sentiment:  Sentiment(polarity=0.1, subjectivity=0.0) \n",
      "\n",
      "\n",
      "Pattern Tweet:  Mark and me after my death Welcome to the companions and relatives and loved not abandon pray and pray Wonderful 🌾💜💜. \n",
      "Sentiment:  Sentiment(polarity=0.8333333333333334, subjectivity=0.9) \n",
      "\n",
      "\n",
      "Pattern Tweet:  The Grand National Wayuu: between two republics https://t.co/wEMqSTSS4s https://t.co/nB6I3EEzVJ \n",
      "Sentiment:  Sentiment(polarity=0.5, subjectivity=1.0) \n",
      "\n",
      "\n",
      "Pattern Tweet:  Naa it's not necessarily had asked forgiveness @CSN_neki. Well No, I was taken behind today. \n",
      "Sentiment:  Sentiment(polarity=-0.2, subjectivity=0.85) \n",
      "\n",
      "\n",
      "Pattern Tweet:  Meaning of words does not come out without in particular can is not it # still digestion can say \n",
      "Sentiment:  Sentiment(polarity=0.16666666666666666, subjectivity=0.3333333333333333) \n",
      "\n",
      "\n",
      "Pattern Tweet:  [1 introduced in the click OK! ] Has created easy-to-read of Google Analytics screen! Please use ♪ - and Seriously Isanchi https://t.co/8iyHggRXEO \n",
      "Sentiment:  Sentiment(polarity=0.22395833333333334, subjectivity=0.5833333333333333) \n",
      "\n",
      "\n",
      "Pattern Tweet:  @ItzelyMiguelSW Rich lips \n",
      "Sentiment:  Sentiment(polarity=0.375, subjectivity=0.75) \n",
      "\n",
      "\n",
      "Pattern Tweet:  Two daughters young breastfed ZB bath .. https://t.co/wFhBE3MFHh https://t.co/4CzH2GL06a mpc\n",
      "sex\n",
      "Hraamit\n",
      "negative\n",
      "B0IJ \n",
      "Sentiment:  Sentiment(polarity=-0.09999999999999999, subjectivity=0.4) \n",
      "\n",
      "\n",
      "Pattern Tweet:  RT @NenoProGuitar: Setting up for #ChinaSuperVocal2016! It's going to be a time :) @karenlizotte I didn't paint my face I swear https://t.c… \n",
      "Sentiment:  Sentiment(polarity=0.5, subjectivity=1.0) \n",
      "\n",
      "\n",
      "Pattern Tweet:  Outside of the car I do apart from much also annoy choose frame in only I know aside now if the time was a dud \n",
      "Sentiment:  Sentiment(polarity=0.06666666666666667, subjectivity=0.4166666666666667) \n",
      "\n",
      "\n",
      "Pattern Tweet:  RT @ chisakky03: Hey, Fumiya I'm cool of the time of the Checkers! (Even now I hope) in the barrage. Laughed at me, \"Well, now? Are that now?\". It comes to a young child is said or \"What I ... Comedy certain you heard?\". Since different (; ° ∇ °) you guys please YouTube search. \n",
      "Sentiment:  Sentiment(polarity=0.29035714285714287, subjectivity=0.48428571428571426) \n",
      "\n",
      "\n",
      "Pattern Tweet:  @itsannika__ you also have to libig peps, HAHAHAHA I saw earlier 😍 \n",
      "Sentiment:  Sentiment(polarity=0.1, subjectivity=0.5) \n",
      "\n",
      "\n",
      "Pattern Tweet:  RT @HeartBoxPlus: If you don't like taco bell just because it's not authentic Mexican food I need you to please hush \n",
      "Sentiment:  Sentiment(polarity=-0.125, subjectivity=0.375) \n",
      "\n",
      "\n",
      "Pattern Tweet:  [Live] Hisotensoku 21 frame eyes! ! It was started. https://t.co/o4JcBk12qE # lv262998993 \n",
      "Sentiment:  Sentiment(polarity=0.2130681818181818, subjectivity=0.5) \n",
      "\n",
      "\n",
      "Pattern Tweet:  Tired \n",
      "Sentiment:  Sentiment(polarity=-0.4, subjectivity=0.7) \n",
      "\n",
      "\n",
      "Pattern Tweet:  825RHCH17 - Standalone Financial Results, Limited Review Report for March 31, 2016 https://t.co/iTh6S5glE8 \n",
      "Sentiment:  Sentiment(polarity=-0.03571428571428571, subjectivity=0.07142857142857142) \n",
      "\n",
      "\n",
      "Pattern Tweet:  the handsome really BAGTAS! \n",
      "Sentiment:  Sentiment(polarity=0.375, subjectivity=0.6) \n",
      "\n",
      "\n",
      "Pattern Tweet:  Appreciate best and the speediest conveyance with @snapdeal #SnapdealDeliversFastest \n",
      "Sentiment:  Sentiment(polarity=1.0, subjectivity=0.3) \n",
      "\n",
      "\n",
      "Pattern Tweet:  RT @YashintaNW: Day premiere, lumayan..Lancar little 😅 \n",
      "Sentiment:  Sentiment(polarity=-0.1875, subjectivity=0.5) \n",
      "\n",
      "\n",
      "Pattern Tweet:  @ 08koumonsuto07 go going to go I want to go I have not decided the other party (laughs) already (laughs) \n",
      "Sentiment:  Sentiment(polarity=-0.125, subjectivity=0.375) \n",
      "\n",
      "\n",
      "Pattern Tweet:  @iv_qxs\n",
      "Head okay? ? ? ? \n",
      "Sentiment:  Sentiment(polarity=0.5, subjectivity=0.5) \n",
      "\n",
      "\n",
      "Pattern Tweet:  Calling all #Berniecrats #RT and reply to make sure nobody has the #WrongIdea about #Berners #InItToWinIt https://t.co/G8X3Bqapvk \n",
      "Sentiment:  Sentiment(polarity=0.5, subjectivity=0.8888888888888888) \n",
      "\n",
      "\n",
      "Pattern Tweet:  @koyuki_okinawan\n",
      "Mathematics horrible 😱 \n",
      "Sentiment:  Sentiment(polarity=-1.0, subjectivity=1.0) \n",
      "\n",
      "\n",
      "Pattern Tweet:  @ 0206yt Tiara's Good evening! Long time no see 😌 Lilia But I first went was easy to watch on the screen larger. I hope go to see somewhere! \n",
      "Sentiment:  Sentiment(polarity=0.30166666666666664, subjectivity=0.5333333333333333) \n",
      "\n",
      "\n",
      "Pattern Tweet:  @ 8Secret_Garden8 @ yuukoro_0912 I do I'm not in any way opposed the issuing mediumship over\n",
      "( '· _ · `)\n",
      "But please do not think so much because only opposed in that aspect. Share it, is the villagers only to Honma When a person does not work thinking is. I think that garbled depending on how to use! \n",
      "Sentiment:  Sentiment(polarity=0.06666666666666667, subjectivity=0.7333333333333334) \n",
      "\n",
      "\n",
      "Pattern Tweet:  Confining a professional relationship to strictly business is ... More for Aquarius https://t.co/ywCWszKQUF \n",
      "Sentiment:  Sentiment(polarity=0.3, subjectivity=0.3) \n",
      "\n",
      "\n",
      "Pattern Tweet:  My arm baaaaa! Hahaha! https://t.co/dhFkyT7pB1 \n",
      "Sentiment:  Sentiment(polarity=0.25, subjectivity=0.4) \n",
      "\n",
      "\n",
      "Pattern Tweet:  @ii_nonS a beautiful Bs miss the dark by 😢💜 https://t.co/ePAprZniGC \n",
      "Sentiment:  Sentiment(polarity=0.35, subjectivity=0.7) \n",
      "\n",
      "\n",
      "Pattern Tweet:  1918 $1 FEDERAL RESERVE NOTE - BOSTON -  ** LIGHTLY CIRCULATED ** FREE SHIPPING https://t.co/mCUhvx2o82 https://t.co/v8V8BjwQH2 \n",
      "Sentiment:  Sentiment(polarity=0.4, subjectivity=0.75) \n",
      "\n",
      "\n",
      "Pattern Tweet:  Our 1 year Anniversary info is in the @EveningGazette #Teesside today! Go pick it up ;) https://t.co/CnC4fr2tY6 \n",
      "Sentiment:  Sentiment(polarity=0.25, subjectivity=1.0) \n",
      "\n",
      "\n",
      "Pattern Tweet:  twitters gone dead is everyone snapchatting misha \n",
      "Sentiment:  Sentiment(polarity=-0.2, subjectivity=0.4) \n",
      "\n",
      "\n"
     ]
    },
    {
     "ename": "NotTranslated",
     "evalue": "Translation API returned the input string unchanged.",
     "output_type": "error",
     "traceback": [
      "\u001b[0;31m---------------------------------------------------------------------------\u001b[0m",
      "\u001b[0;31mNotTranslated\u001b[0m                             Traceback (most recent call last)",
      "\u001b[0;32m<ipython-input-6-a10e59d9c2d4>\u001b[0m in \u001b[0;36m<module>\u001b[0;34m()\u001b[0m\n\u001b[1;32m      2\u001b[0m     \u001b[0mblob\u001b[0m \u001b[0;34m=\u001b[0m \u001b[0mTextBlob\u001b[0m\u001b[0;34m(\u001b[0m\u001b[0mtweet\u001b[0m\u001b[0;34m)\u001b[0m\u001b[0;34m\u001b[0m\u001b[0m\n\u001b[1;32m      3\u001b[0m     \u001b[0;32mif\u001b[0m \u001b[0mblob\u001b[0m\u001b[0;34m.\u001b[0m\u001b[0mdetect_language\u001b[0m\u001b[0;34m(\u001b[0m\u001b[0;34m)\u001b[0m \u001b[0;34m!=\u001b[0m \u001b[0;34m'en'\u001b[0m\u001b[0;34m:\u001b[0m\u001b[0;34m\u001b[0m\u001b[0m\n\u001b[0;32m----> 4\u001b[0;31m         \u001b[0mblob\u001b[0m \u001b[0;34m=\u001b[0m \u001b[0mblob\u001b[0m\u001b[0;34m.\u001b[0m\u001b[0mtranslate\u001b[0m\u001b[0;34m(\u001b[0m\u001b[0;34m)\u001b[0m\u001b[0;34m\u001b[0m\u001b[0m\n\u001b[0m\u001b[1;32m      5\u001b[0m \u001b[0;31m#         continue\u001b[0m\u001b[0;34m\u001b[0m\u001b[0;34m\u001b[0m\u001b[0m\n\u001b[1;32m      6\u001b[0m     \u001b[0;32mif\u001b[0m \u001b[0mblob\u001b[0m\u001b[0;34m.\u001b[0m\u001b[0mpolarity\u001b[0m \u001b[0;34m!=\u001b[0m \u001b[0;36m0.0\u001b[0m\u001b[0;34m:\u001b[0m\u001b[0;34m\u001b[0m\u001b[0m\n",
      "\u001b[0;32m/Users/jasonmyers/.virtualenvs/sentiment/lib/python2.7/site-packages/textblob/blob.pyc\u001b[0m in \u001b[0;36mtranslate\u001b[0;34m(self, from_lang, to)\u001b[0m\n\u001b[1;32m    503\u001b[0m         \"\"\"\n\u001b[1;32m    504\u001b[0m         return self.__class__(self.translator.translate(self.raw,\n\u001b[0;32m--> 505\u001b[0;31m                               from_lang=from_lang, to_lang=to))\n\u001b[0m\u001b[1;32m    506\u001b[0m \u001b[0;34m\u001b[0m\u001b[0m\n\u001b[1;32m    507\u001b[0m     \u001b[0;32mdef\u001b[0m \u001b[0mdetect_language\u001b[0m\u001b[0;34m(\u001b[0m\u001b[0mself\u001b[0m\u001b[0;34m)\u001b[0m\u001b[0;34m:\u001b[0m\u001b[0;34m\u001b[0m\u001b[0m\n",
      "\u001b[0;32m/Users/jasonmyers/.virtualenvs/sentiment/lib/python2.7/site-packages/textblob/translate.pyc\u001b[0m in \u001b[0;36mtranslate\u001b[0;34m(self, source, from_lang, to_lang, host, type_)\u001b[0m\n\u001b[1;32m     57\u001b[0m             \u001b[0;32mexcept\u001b[0m \u001b[0mIndexError\u001b[0m\u001b[0;34m:\u001b[0m\u001b[0;34m\u001b[0m\u001b[0m\n\u001b[1;32m     58\u001b[0m                 \u001b[0;32mpass\u001b[0m\u001b[0;34m\u001b[0m\u001b[0m\n\u001b[0;32m---> 59\u001b[0;31m         \u001b[0mself\u001b[0m\u001b[0;34m.\u001b[0m\u001b[0m_validate_translation\u001b[0m\u001b[0;34m(\u001b[0m\u001b[0msource\u001b[0m\u001b[0;34m,\u001b[0m \u001b[0mresult\u001b[0m\u001b[0;34m)\u001b[0m\u001b[0;34m\u001b[0m\u001b[0m\n\u001b[0m\u001b[1;32m     60\u001b[0m         \u001b[0;32mreturn\u001b[0m \u001b[0mresult\u001b[0m\u001b[0;34m\u001b[0m\u001b[0m\n\u001b[1;32m     61\u001b[0m \u001b[0;34m\u001b[0m\u001b[0m\n",
      "\u001b[0;32m/Users/jasonmyers/.virtualenvs/sentiment/lib/python2.7/site-packages/textblob/translate.pyc\u001b[0m in \u001b[0;36m_validate_translation\u001b[0;34m(self, source, result)\u001b[0m\n\u001b[1;32m     83\u001b[0m             \u001b[0mresult\u001b[0m \u001b[0;34m=\u001b[0m \u001b[0mresult\u001b[0m\u001b[0;34m.\u001b[0m\u001b[0mencode\u001b[0m\u001b[0;34m(\u001b[0m\u001b[0;34m'utf-8'\u001b[0m\u001b[0;34m)\u001b[0m\u001b[0;34m\u001b[0m\u001b[0m\n\u001b[1;32m     84\u001b[0m         \u001b[0;32mif\u001b[0m \u001b[0mresult\u001b[0m\u001b[0;34m.\u001b[0m\u001b[0mstrip\u001b[0m\u001b[0;34m(\u001b[0m\u001b[0;34m)\u001b[0m \u001b[0;34m==\u001b[0m \u001b[0msource\u001b[0m\u001b[0;34m.\u001b[0m\u001b[0mstrip\u001b[0m\u001b[0;34m(\u001b[0m\u001b[0;34m)\u001b[0m\u001b[0;34m:\u001b[0m\u001b[0;34m\u001b[0m\u001b[0m\n\u001b[0;32m---> 85\u001b[0;31m             \u001b[0;32mraise\u001b[0m \u001b[0mNotTranslated\u001b[0m\u001b[0;34m(\u001b[0m\u001b[0;34m'Translation API returned the input string unchanged.'\u001b[0m\u001b[0;34m)\u001b[0m\u001b[0;34m\u001b[0m\u001b[0m\n\u001b[0m\u001b[1;32m     86\u001b[0m \u001b[0;34m\u001b[0m\u001b[0m\n\u001b[1;32m     87\u001b[0m     \u001b[0;32mdef\u001b[0m \u001b[0m_request\u001b[0m\u001b[0;34m(\u001b[0m\u001b[0mself\u001b[0m\u001b[0;34m,\u001b[0m \u001b[0murl\u001b[0m\u001b[0;34m,\u001b[0m \u001b[0mhost\u001b[0m\u001b[0;34m=\u001b[0m\u001b[0mNone\u001b[0m\u001b[0;34m,\u001b[0m \u001b[0mtype_\u001b[0m\u001b[0;34m=\u001b[0m\u001b[0mNone\u001b[0m\u001b[0;34m,\u001b[0m \u001b[0mdata\u001b[0m\u001b[0;34m=\u001b[0m\u001b[0mNone\u001b[0m\u001b[0;34m)\u001b[0m\u001b[0;34m:\u001b[0m\u001b[0;34m\u001b[0m\u001b[0m\n",
      "\u001b[0;31mNotTranslated\u001b[0m: Translation API returned the input string unchanged."
     ]
    }
   ],
   "source": [
    "for tweet in tweet_texts:\n",
    "    blob = TextBlob(tweet)\n",
    "    if blob.detect_language() != 'en':\n",
    "        blob = blob.translate()\n",
    "#         continue\n",
    "    if blob.polarity != 0.0:\n",
    "        if blob.polarity > 0:\n",
    "            sentiment = 'pos'\n",
    "        if blob.polarity < 0:\n",
    "            sentiment = 'neg'\n",
    "        print \"Pattern Tweet: \", blob, \"\\nSentiment: \", blob.sentiment, \"\\n\\n\"\n",
    "    else:\n",
    "        blob = TextBlob(tweet, analyzer=NaiveBayesAnalyzer())\n",
    "        if blob.detect_language() != 'en':\n",
    "            blob = blob.translate()\n",
    "#             continue\n",
    "        print \"Bayes Tweet: \", blob, \"\\nSentiment: \", blob.sentiment.classification, \"\\n\\n\""
   ]
  },
  {
   "cell_type": "code",
   "execution_count": 15,
   "metadata": {
    "collapsed": false
   },
   "outputs": [
    {
     "data": {
      "text/plain": [
       "1174"
      ]
     },
     "execution_count": 15,
     "metadata": {},
     "output_type": "execute_result"
    }
   ],
   "source": [
    "len(tweet_texts)"
   ]
  },
  {
   "cell_type": "code",
   "execution_count": null,
   "metadata": {
    "collapsed": true
   },
   "outputs": [],
   "source": []
  }
 ],
 "metadata": {
  "kernelspec": {
   "display_name": "Python 2",
   "language": "python",
   "name": "python2"
  },
  "language_info": {
   "codemirror_mode": {
    "name": "ipython",
    "version": 2
   },
   "file_extension": ".py",
   "mimetype": "text/x-python",
   "name": "python",
   "nbconvert_exporter": "python",
   "pygments_lexer": "ipython2",
   "version": "2.7.11"
  }
 },
 "nbformat": 4,
 "nbformat_minor": 0
}
